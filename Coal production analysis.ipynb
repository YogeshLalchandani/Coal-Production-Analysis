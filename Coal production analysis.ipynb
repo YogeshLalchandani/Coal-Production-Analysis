{
 "cells": [
  {
   "cell_type": "code",
   "execution_count": 1,
   "id": "197f12fc",
   "metadata": {},
   "outputs": [],
   "source": [
    "# importing libraries\n",
    "import numpy as np\n",
    "import pandas as pd\n",
    "import seaborn as sns\n",
    "%matplotlib inline\n",
    "import matplotlib.pyplot as plt"
   ]
  },
  {
   "cell_type": "code",
   "execution_count": 2,
   "id": "422dcc7e",
   "metadata": {},
   "outputs": [],
   "source": [
    "df=pd.read_excel(\"dataUSmines.xlsx\",header=0) # importing dataset"
   ]
  },
  {
   "cell_type": "code",
   "execution_count": 3,
   "id": "5622d4e3",
   "metadata": {},
   "outputs": [
    {
     "data": {
      "text/html": [
       "<div>\n",
       "<style scoped>\n",
       "    .dataframe tbody tr th:only-of-type {\n",
       "        vertical-align: middle;\n",
       "    }\n",
       "\n",
       "    .dataframe tbody tr th {\n",
       "        vertical-align: top;\n",
       "    }\n",
       "\n",
       "    .dataframe thead th {\n",
       "        text-align: right;\n",
       "    }\n",
       "</style>\n",
       "<table border=\"1\" class=\"dataframe\">\n",
       "  <thead>\n",
       "    <tr style=\"text-align: right;\">\n",
       "      <th></th>\n",
       "      <th>Year</th>\n",
       "      <th>MSHA ID</th>\n",
       "      <th>Mine Name</th>\n",
       "      <th>Mine State</th>\n",
       "      <th>Mine County</th>\n",
       "      <th>Mine Status</th>\n",
       "      <th>Mine Type</th>\n",
       "      <th>Company Type</th>\n",
       "      <th>Operation Type</th>\n",
       "      <th>Operating Company</th>\n",
       "      <th>Operating Company Address</th>\n",
       "      <th>Union Code</th>\n",
       "      <th>Coal Supply Region</th>\n",
       "      <th>Production (short tons)</th>\n",
       "      <th>Average Employees</th>\n",
       "      <th>Labor Hours</th>\n",
       "    </tr>\n",
       "  </thead>\n",
       "  <tbody>\n",
       "    <tr>\n",
       "      <th>0</th>\n",
       "      <td>2020</td>\n",
       "      <td>103489</td>\n",
       "      <td>John Poe Mine</td>\n",
       "      <td>Alabama</td>\n",
       "      <td>De Kalb</td>\n",
       "      <td>Active</td>\n",
       "      <td>Surface</td>\n",
       "      <td>Independent Producer Operator</td>\n",
       "      <td>Mine only</td>\n",
       "      <td>Kennedy Brothers Construction</td>\n",
       "      <td>756 Co. Rd 676, Fort Payne, AL 35968</td>\n",
       "      <td>NaN</td>\n",
       "      <td>Appalachia Southern</td>\n",
       "      <td>17865</td>\n",
       "      <td>2</td>\n",
       "      <td>1440</td>\n",
       "    </tr>\n",
       "    <tr>\n",
       "      <th>1</th>\n",
       "      <td>2020</td>\n",
       "      <td>100329</td>\n",
       "      <td>Oak Grove Preparation Plant</td>\n",
       "      <td>Alabama</td>\n",
       "      <td>Jefferson</td>\n",
       "      <td>Active</td>\n",
       "      <td>Underground</td>\n",
       "      <td>Independent Producer Operator</td>\n",
       "      <td>Preparation Plant</td>\n",
       "      <td>Crimson Oak Grove Resources Ll</td>\n",
       "      <td>8360 Taylors Ferry Rd, Hueytown, AL 35023</td>\n",
       "      <td>United Mine Workers Of America</td>\n",
       "      <td>Appalachia Southern</td>\n",
       "      <td>0</td>\n",
       "      <td>47</td>\n",
       "      <td>102797</td>\n",
       "    </tr>\n",
       "    <tr>\n",
       "      <th>2</th>\n",
       "      <td>2020</td>\n",
       "      <td>100627</td>\n",
       "      <td>Flat Top Mine</td>\n",
       "      <td>Alabama</td>\n",
       "      <td>Jefferson</td>\n",
       "      <td>Active</td>\n",
       "      <td>Surface</td>\n",
       "      <td>Independent Producer Operator</td>\n",
       "      <td>Mine only</td>\n",
       "      <td>Best Coal Inc.</td>\n",
       "      <td>P.O. Box 1608, Jasper, AL 35502</td>\n",
       "      <td>NaN</td>\n",
       "      <td>Appalachia Southern</td>\n",
       "      <td>239590</td>\n",
       "      <td>42</td>\n",
       "      <td>107899</td>\n",
       "    </tr>\n",
       "    <tr>\n",
       "      <th>3</th>\n",
       "      <td>2020</td>\n",
       "      <td>100851</td>\n",
       "      <td>Oak Grove Mine</td>\n",
       "      <td>Alabama</td>\n",
       "      <td>Jefferson</td>\n",
       "      <td>Active</td>\n",
       "      <td>Underground</td>\n",
       "      <td>Independent Producer Operator</td>\n",
       "      <td>Mine only</td>\n",
       "      <td>Crimson Oak Grove Resources Ll</td>\n",
       "      <td>8360 Taylors Ferry Rd, Bessemer, AL 35023</td>\n",
       "      <td>United Mine Workers Of America</td>\n",
       "      <td>Appalachia Southern</td>\n",
       "      <td>1608068</td>\n",
       "      <td>397</td>\n",
       "      <td>913988</td>\n",
       "    </tr>\n",
       "    <tr>\n",
       "      <th>4</th>\n",
       "      <td>2020</td>\n",
       "      <td>101401</td>\n",
       "      <td>No 7 Mine</td>\n",
       "      <td>Alabama</td>\n",
       "      <td>Jefferson</td>\n",
       "      <td>Active</td>\n",
       "      <td>Underground</td>\n",
       "      <td>Independent Producer Operator</td>\n",
       "      <td>Mine and Preparation Plant</td>\n",
       "      <td>Warrior Met Coal Mining, Llc</td>\n",
       "      <td>P.O. Box 133, Brookwood, AL 35444</td>\n",
       "      <td>United Mine Workers Of America</td>\n",
       "      <td>Appalachia Southern</td>\n",
       "      <td>5708153</td>\n",
       "      <td>844</td>\n",
       "      <td>2149456</td>\n",
       "    </tr>\n",
       "  </tbody>\n",
       "</table>\n",
       "</div>"
      ],
      "text/plain": [
       "   Year  MSHA ID                    Mine Name Mine State Mine County  \\\n",
       "0  2020   103489                John Poe Mine    Alabama     De Kalb   \n",
       "1  2020   100329  Oak Grove Preparation Plant    Alabama   Jefferson   \n",
       "2  2020   100627                Flat Top Mine    Alabama   Jefferson   \n",
       "3  2020   100851               Oak Grove Mine    Alabama   Jefferson   \n",
       "4  2020   101401                    No 7 Mine    Alabama   Jefferson   \n",
       "\n",
       "  Mine Status    Mine Type                   Company Type  \\\n",
       "0      Active      Surface  Independent Producer Operator   \n",
       "1      Active  Underground  Independent Producer Operator   \n",
       "2      Active      Surface  Independent Producer Operator   \n",
       "3      Active  Underground  Independent Producer Operator   \n",
       "4      Active  Underground  Independent Producer Operator   \n",
       "\n",
       "               Operation Type               Operating Company  \\\n",
       "0                   Mine only   Kennedy Brothers Construction   \n",
       "1           Preparation Plant  Crimson Oak Grove Resources Ll   \n",
       "2                   Mine only                  Best Coal Inc.   \n",
       "3                   Mine only  Crimson Oak Grove Resources Ll   \n",
       "4  Mine and Preparation Plant    Warrior Met Coal Mining, Llc   \n",
       "\n",
       "                   Operating Company Address                      Union Code  \\\n",
       "0       756 Co. Rd 676, Fort Payne, AL 35968                             NaN   \n",
       "1  8360 Taylors Ferry Rd, Hueytown, AL 35023  United Mine Workers Of America   \n",
       "2            P.O. Box 1608, Jasper, AL 35502                             NaN   \n",
       "3  8360 Taylors Ferry Rd, Bessemer, AL 35023  United Mine Workers Of America   \n",
       "4          P.O. Box 133, Brookwood, AL 35444  United Mine Workers Of America   \n",
       "\n",
       "    Coal Supply Region  Production (short tons)  Average Employees  \\\n",
       "0  Appalachia Southern                    17865                  2   \n",
       "1  Appalachia Southern                        0                 47   \n",
       "2  Appalachia Southern                   239590                 42   \n",
       "3  Appalachia Southern                  1608068                397   \n",
       "4  Appalachia Southern                  5708153                844   \n",
       "\n",
       "   Labor Hours  \n",
       "0         1440  \n",
       "1       102797  \n",
       "2       107899  \n",
       "3       913988  \n",
       "4      2149456  "
      ]
     },
     "execution_count": 3,
     "metadata": {},
     "output_type": "execute_result"
    }
   ],
   "source": [
    "df.head()"
   ]
  },
  {
   "cell_type": "code",
   "execution_count": 4,
   "id": "f335b8b3",
   "metadata": {},
   "outputs": [
    {
     "data": {
      "text/plain": [
       "(772, 16)"
      ]
     },
     "execution_count": 4,
     "metadata": {},
     "output_type": "execute_result"
    }
   ],
   "source": [
    "df.shape"
   ]
  },
  {
   "cell_type": "code",
   "execution_count": 5,
   "id": "d3f88497",
   "metadata": {},
   "outputs": [
    {
     "data": {
      "text/html": [
       "<div>\n",
       "<style scoped>\n",
       "    .dataframe tbody tr th:only-of-type {\n",
       "        vertical-align: middle;\n",
       "    }\n",
       "\n",
       "    .dataframe tbody tr th {\n",
       "        vertical-align: top;\n",
       "    }\n",
       "\n",
       "    .dataframe thead th {\n",
       "        text-align: right;\n",
       "    }\n",
       "</style>\n",
       "<table border=\"1\" class=\"dataframe\">\n",
       "  <thead>\n",
       "    <tr style=\"text-align: right;\">\n",
       "      <th></th>\n",
       "      <th>Year</th>\n",
       "      <th>MSHA ID</th>\n",
       "      <th>Production (short tons)</th>\n",
       "      <th>Average Employees</th>\n",
       "      <th>Labor Hours</th>\n",
       "    </tr>\n",
       "  </thead>\n",
       "  <tbody>\n",
       "    <tr>\n",
       "      <th>count</th>\n",
       "      <td>772.0</td>\n",
       "      <td>7.720000e+02</td>\n",
       "      <td>7.720000e+02</td>\n",
       "      <td>772.000000</td>\n",
       "      <td>7.720000e+02</td>\n",
       "    </tr>\n",
       "    <tr>\n",
       "      <th>mean</th>\n",
       "      <td>2020.0</td>\n",
       "      <td>3.225257e+06</td>\n",
       "      <td>6.935678e+05</td>\n",
       "      <td>54.610104</td>\n",
       "      <td>1.132691e+05</td>\n",
       "    </tr>\n",
       "    <tr>\n",
       "      <th>std</th>\n",
       "      <td>0.0</td>\n",
       "      <td>1.427655e+06</td>\n",
       "      <td>3.428691e+06</td>\n",
       "      <td>114.740838</td>\n",
       "      <td>2.438533e+05</td>\n",
       "    </tr>\n",
       "    <tr>\n",
       "      <th>min</th>\n",
       "      <td>2020.0</td>\n",
       "      <td>1.003290e+05</td>\n",
       "      <td>0.000000e+00</td>\n",
       "      <td>0.000000</td>\n",
       "      <td>2.800000e+01</td>\n",
       "    </tr>\n",
       "    <tr>\n",
       "      <th>25%</th>\n",
       "      <td>2020.0</td>\n",
       "      <td>1.519809e+06</td>\n",
       "      <td>0.000000e+00</td>\n",
       "      <td>6.000000</td>\n",
       "      <td>8.269000e+03</td>\n",
       "    </tr>\n",
       "    <tr>\n",
       "      <th>50%</th>\n",
       "      <td>2020.0</td>\n",
       "      <td>3.609315e+06</td>\n",
       "      <td>2.103500e+04</td>\n",
       "      <td>15.000000</td>\n",
       "      <td>2.739600e+04</td>\n",
       "    </tr>\n",
       "    <tr>\n",
       "      <th>75%</th>\n",
       "      <td>2020.0</td>\n",
       "      <td>4.605172e+06</td>\n",
       "      <td>1.925898e+05</td>\n",
       "      <td>41.250000</td>\n",
       "      <td>9.108600e+04</td>\n",
       "    </tr>\n",
       "    <tr>\n",
       "      <th>max</th>\n",
       "      <td>2020.0</td>\n",
       "      <td>5.000030e+06</td>\n",
       "      <td>6.611184e+07</td>\n",
       "      <td>1078.000000</td>\n",
       "      <td>2.149456e+06</td>\n",
       "    </tr>\n",
       "  </tbody>\n",
       "</table>\n",
       "</div>"
      ],
      "text/plain": [
       "         Year       MSHA ID  Production (short tons)  Average Employees  \\\n",
       "count   772.0  7.720000e+02             7.720000e+02         772.000000   \n",
       "mean   2020.0  3.225257e+06             6.935678e+05          54.610104   \n",
       "std       0.0  1.427655e+06             3.428691e+06         114.740838   \n",
       "min    2020.0  1.003290e+05             0.000000e+00           0.000000   \n",
       "25%    2020.0  1.519809e+06             0.000000e+00           6.000000   \n",
       "50%    2020.0  3.609315e+06             2.103500e+04          15.000000   \n",
       "75%    2020.0  4.605172e+06             1.925898e+05          41.250000   \n",
       "max    2020.0  5.000030e+06             6.611184e+07        1078.000000   \n",
       "\n",
       "        Labor Hours  \n",
       "count  7.720000e+02  \n",
       "mean   1.132691e+05  \n",
       "std    2.438533e+05  \n",
       "min    2.800000e+01  \n",
       "25%    8.269000e+03  \n",
       "50%    2.739600e+04  \n",
       "75%    9.108600e+04  \n",
       "max    2.149456e+06  "
      ]
     },
     "execution_count": 5,
     "metadata": {},
     "output_type": "execute_result"
    }
   ],
   "source": [
    "df.describe()"
   ]
  },
  {
   "cell_type": "code",
   "execution_count": 6,
   "id": "18154d97",
   "metadata": {},
   "outputs": [
    {
     "name": "stdout",
     "output_type": "stream",
     "text": [
      "<class 'pandas.core.frame.DataFrame'>\n",
      "RangeIndex: 772 entries, 0 to 771\n",
      "Data columns (total 16 columns):\n",
      " #   Column                     Non-Null Count  Dtype \n",
      "---  ------                     --------------  ----- \n",
      " 0   Year                       772 non-null    int64 \n",
      " 1   MSHA ID                    772 non-null    int64 \n",
      " 2   Mine Name                  772 non-null    object\n",
      " 3   Mine State                 772 non-null    object\n",
      " 4   Mine County                772 non-null    object\n",
      " 5   Mine Status                772 non-null    object\n",
      " 6   Mine Type                  772 non-null    object\n",
      " 7   Company Type               772 non-null    object\n",
      " 8   Operation Type             772 non-null    object\n",
      " 9   Operating Company          772 non-null    object\n",
      " 10  Operating Company Address  772 non-null    object\n",
      " 11  Union Code                 58 non-null     object\n",
      " 12  Coal Supply Region         772 non-null    object\n",
      " 13  Production (short tons)    772 non-null    int64 \n",
      " 14  Average Employees          772 non-null    int64 \n",
      " 15  Labor Hours                772 non-null    int64 \n",
      "dtypes: int64(5), object(11)\n",
      "memory usage: 96.6+ KB\n"
     ]
    }
   ],
   "source": [
    "df.info()"
   ]
  },
  {
   "cell_type": "code",
   "execution_count": 7,
   "id": "1e598202",
   "metadata": {},
   "outputs": [],
   "source": [
    "#removing unwanted columns\n",
    "del df['Year']\n",
    "del df['MSHA ID']\n",
    "del df['Mine Name']\n",
    "del df['Operating Company Address']\n",
    "del df['Union Code']\n",
    "del df['Mine State']\n",
    "del df['Mine County']\n",
    "del df['Operating Company']"
   ]
  },
  {
   "cell_type": "code",
   "execution_count": 8,
   "id": "5a119355",
   "metadata": {},
   "outputs": [
    {
     "data": {
      "text/html": [
       "<div>\n",
       "<style scoped>\n",
       "    .dataframe tbody tr th:only-of-type {\n",
       "        vertical-align: middle;\n",
       "    }\n",
       "\n",
       "    .dataframe tbody tr th {\n",
       "        vertical-align: top;\n",
       "    }\n",
       "\n",
       "    .dataframe thead th {\n",
       "        text-align: right;\n",
       "    }\n",
       "</style>\n",
       "<table border=\"1\" class=\"dataframe\">\n",
       "  <thead>\n",
       "    <tr style=\"text-align: right;\">\n",
       "      <th></th>\n",
       "      <th>Mine Status</th>\n",
       "      <th>Mine Type</th>\n",
       "      <th>Company Type</th>\n",
       "      <th>Operation Type</th>\n",
       "      <th>Coal Supply Region</th>\n",
       "      <th>Production (short tons)</th>\n",
       "      <th>Average Employees</th>\n",
       "      <th>Labor Hours</th>\n",
       "    </tr>\n",
       "  </thead>\n",
       "  <tbody>\n",
       "    <tr>\n",
       "      <th>0</th>\n",
       "      <td>Active</td>\n",
       "      <td>Surface</td>\n",
       "      <td>Independent Producer Operator</td>\n",
       "      <td>Mine only</td>\n",
       "      <td>Appalachia Southern</td>\n",
       "      <td>17865</td>\n",
       "      <td>2</td>\n",
       "      <td>1440</td>\n",
       "    </tr>\n",
       "    <tr>\n",
       "      <th>1</th>\n",
       "      <td>Active</td>\n",
       "      <td>Underground</td>\n",
       "      <td>Independent Producer Operator</td>\n",
       "      <td>Preparation Plant</td>\n",
       "      <td>Appalachia Southern</td>\n",
       "      <td>0</td>\n",
       "      <td>47</td>\n",
       "      <td>102797</td>\n",
       "    </tr>\n",
       "    <tr>\n",
       "      <th>2</th>\n",
       "      <td>Active</td>\n",
       "      <td>Surface</td>\n",
       "      <td>Independent Producer Operator</td>\n",
       "      <td>Mine only</td>\n",
       "      <td>Appalachia Southern</td>\n",
       "      <td>239590</td>\n",
       "      <td>42</td>\n",
       "      <td>107899</td>\n",
       "    </tr>\n",
       "    <tr>\n",
       "      <th>3</th>\n",
       "      <td>Active</td>\n",
       "      <td>Underground</td>\n",
       "      <td>Independent Producer Operator</td>\n",
       "      <td>Mine only</td>\n",
       "      <td>Appalachia Southern</td>\n",
       "      <td>1608068</td>\n",
       "      <td>397</td>\n",
       "      <td>913988</td>\n",
       "    </tr>\n",
       "    <tr>\n",
       "      <th>4</th>\n",
       "      <td>Active</td>\n",
       "      <td>Underground</td>\n",
       "      <td>Independent Producer Operator</td>\n",
       "      <td>Mine and Preparation Plant</td>\n",
       "      <td>Appalachia Southern</td>\n",
       "      <td>5708153</td>\n",
       "      <td>844</td>\n",
       "      <td>2149456</td>\n",
       "    </tr>\n",
       "  </tbody>\n",
       "</table>\n",
       "</div>"
      ],
      "text/plain": [
       "  Mine Status    Mine Type                   Company Type  \\\n",
       "0      Active      Surface  Independent Producer Operator   \n",
       "1      Active  Underground  Independent Producer Operator   \n",
       "2      Active      Surface  Independent Producer Operator   \n",
       "3      Active  Underground  Independent Producer Operator   \n",
       "4      Active  Underground  Independent Producer Operator   \n",
       "\n",
       "               Operation Type   Coal Supply Region  Production (short tons)  \\\n",
       "0                   Mine only  Appalachia Southern                    17865   \n",
       "1           Preparation Plant  Appalachia Southern                        0   \n",
       "2                   Mine only  Appalachia Southern                   239590   \n",
       "3                   Mine only  Appalachia Southern                  1608068   \n",
       "4  Mine and Preparation Plant  Appalachia Southern                  5708153   \n",
       "\n",
       "   Average Employees  Labor Hours  \n",
       "0                  2         1440  \n",
       "1                 47       102797  \n",
       "2                 42       107899  \n",
       "3                397       913988  \n",
       "4                844      2149456  "
      ]
     },
     "execution_count": 8,
     "metadata": {},
     "output_type": "execute_result"
    }
   ],
   "source": [
    "df.head()"
   ]
  },
  {
   "cell_type": "code",
   "execution_count": 9,
   "id": "45300f0a",
   "metadata": {},
   "outputs": [],
   "source": [
    "df=df[df[\"Production (short tons)\"]!=0]"
   ]
  },
  {
   "cell_type": "code",
   "execution_count": 10,
   "id": "b513d561",
   "metadata": {},
   "outputs": [
    {
     "data": {
      "text/html": [
       "<div>\n",
       "<style scoped>\n",
       "    .dataframe tbody tr th:only-of-type {\n",
       "        vertical-align: middle;\n",
       "    }\n",
       "\n",
       "    .dataframe tbody tr th {\n",
       "        vertical-align: top;\n",
       "    }\n",
       "\n",
       "    .dataframe thead th {\n",
       "        text-align: right;\n",
       "    }\n",
       "</style>\n",
       "<table border=\"1\" class=\"dataframe\">\n",
       "  <thead>\n",
       "    <tr style=\"text-align: right;\">\n",
       "      <th></th>\n",
       "      <th>Production (short tons)</th>\n",
       "      <th>Average Employees</th>\n",
       "      <th>Labor Hours</th>\n",
       "    </tr>\n",
       "  </thead>\n",
       "  <tbody>\n",
       "    <tr>\n",
       "      <th>count</th>\n",
       "      <td>5.520000e+02</td>\n",
       "      <td>552.000000</td>\n",
       "      <td>5.520000e+02</td>\n",
       "    </tr>\n",
       "    <tr>\n",
       "      <th>mean</th>\n",
       "      <td>9.699898e+05</td>\n",
       "      <td>70.579710</td>\n",
       "      <td>1.467165e+05</td>\n",
       "    </tr>\n",
       "    <tr>\n",
       "      <th>std</th>\n",
       "      <td>4.022580e+06</td>\n",
       "      <td>132.002519</td>\n",
       "      <td>2.807865e+05</td>\n",
       "    </tr>\n",
       "    <tr>\n",
       "      <th>min</th>\n",
       "      <td>1.150000e+02</td>\n",
       "      <td>1.000000</td>\n",
       "      <td>2.800000e+01</td>\n",
       "    </tr>\n",
       "    <tr>\n",
       "      <th>25%</th>\n",
       "      <td>1.443325e+04</td>\n",
       "      <td>7.000000</td>\n",
       "      <td>1.009300e+04</td>\n",
       "    </tr>\n",
       "    <tr>\n",
       "      <th>50%</th>\n",
       "      <td>8.329150e+04</td>\n",
       "      <td>19.500000</td>\n",
       "      <td>3.660400e+04</td>\n",
       "    </tr>\n",
       "    <tr>\n",
       "      <th>75%</th>\n",
       "      <td>3.606902e+05</td>\n",
       "      <td>65.000000</td>\n",
       "      <td>1.408352e+05</td>\n",
       "    </tr>\n",
       "    <tr>\n",
       "      <th>max</th>\n",
       "      <td>6.611184e+07</td>\n",
       "      <td>1078.000000</td>\n",
       "      <td>2.149456e+06</td>\n",
       "    </tr>\n",
       "  </tbody>\n",
       "</table>\n",
       "</div>"
      ],
      "text/plain": [
       "       Production (short tons)  Average Employees   Labor Hours\n",
       "count             5.520000e+02         552.000000  5.520000e+02\n",
       "mean              9.699898e+05          70.579710  1.467165e+05\n",
       "std               4.022580e+06         132.002519  2.807865e+05\n",
       "min               1.150000e+02           1.000000  2.800000e+01\n",
       "25%               1.443325e+04           7.000000  1.009300e+04\n",
       "50%               8.329150e+04          19.500000  3.660400e+04\n",
       "75%               3.606902e+05          65.000000  1.408352e+05\n",
       "max               6.611184e+07        1078.000000  2.149456e+06"
      ]
     },
     "execution_count": 10,
     "metadata": {},
     "output_type": "execute_result"
    }
   ],
   "source": [
    "df.describe()"
   ]
  },
  {
   "cell_type": "code",
   "execution_count": 11,
   "id": "d766c703",
   "metadata": {},
   "outputs": [
    {
     "name": "stdout",
     "output_type": "stream",
     "text": [
      "<class 'pandas.core.frame.DataFrame'>\n",
      "Int64Index: 552 entries, 0 to 771\n",
      "Data columns (total 8 columns):\n",
      " #   Column                   Non-Null Count  Dtype \n",
      "---  ------                   --------------  ----- \n",
      " 0   Mine Status              552 non-null    object\n",
      " 1   Mine Type                552 non-null    object\n",
      " 2   Company Type             552 non-null    object\n",
      " 3   Operation Type           552 non-null    object\n",
      " 4   Coal Supply Region       552 non-null    object\n",
      " 5   Production (short tons)  552 non-null    int64 \n",
      " 6   Average Employees        552 non-null    int64 \n",
      " 7   Labor Hours              552 non-null    int64 \n",
      "dtypes: int64(3), object(5)\n",
      "memory usage: 38.8+ KB\n"
     ]
    }
   ],
   "source": [
    "df.info()"
   ]
  },
  {
   "cell_type": "code",
   "execution_count": 12,
   "id": "cafc16b7",
   "metadata": {},
   "outputs": [
    {
     "data": {
      "text/plain": [
       "<seaborn.axisgrid.JointGrid at 0x226f04de790>"
      ]
     },
     "execution_count": 12,
     "metadata": {},
     "output_type": "execute_result"
    },
    {
     "data": {
      "image/png": "[encoded data removed]",
      "text/plain": [
       "<Figure size 432x432 with 3 Axes>"
      ]
     },
     "metadata": {
      "needs_background": "light"
     },
     "output_type": "display_data"
    }
   ],
   "source": [
    "sns.jointplot(x=\"Average Employees\",y=\"Production (short tons)\",data=df)"
   ]
  },
  {
   "cell_type": "code",
   "execution_count": 13,
   "id": "71c5f798",
   "metadata": {},
   "outputs": [
    {
     "data": {
      "text/plain": [
       "3.700845861006474"
      ]
     },
     "execution_count": 13,
     "metadata": {},
     "output_type": "execute_result"
    }
   ],
   "source": [
    "df[\"Average Employees\"].skew()"
   ]
  },
  {
   "cell_type": "code",
   "execution_count": 14,
   "id": "79109638",
   "metadata": {},
   "outputs": [],
   "source": [
    "# df['AV_log']=np.log(df[\"Average Employees\"])\n",
    "# df['AV_log'].skew()"
   ]
  },
  {
   "cell_type": "code",
   "execution_count": 15,
   "id": "f7f2ea66",
   "metadata": {},
   "outputs": [],
   "source": [
    "# sns.jointplot(x=\"AV_log\",y=\"Production (short tons)\",data=df)"
   ]
  },
  {
   "cell_type": "code",
   "execution_count": 16,
   "id": "6a7659c8",
   "metadata": {},
   "outputs": [
    {
     "data": {
      "text/plain": [
       "<seaborn.axisgrid.JointGrid at 0x226f15bcdc0>"
      ]
     },
     "execution_count": 16,
     "metadata": {},
     "output_type": "execute_result"
    },
    {
     "data": {
      "image/png": "[encoded data removed]",
      "text/plain": [
       "<Figure size 432x432 with 3 Axes>"
      ]
     },
     "metadata": {
      "needs_background": "light"
     },
     "output_type": "display_data"
    }
   ],
   "source": [
    "sns.jointplot(x=df['Average Employees'], y=df['Production (short tons)'],data=df,kind= 'reg')"
   ]
  },
  {
   "cell_type": "code",
   "execution_count": 17,
   "id": "e1bbcf3d",
   "metadata": {},
   "outputs": [
    {
     "data": {
      "text/plain": [
       "<seaborn.axisgrid.JointGrid at 0x226f2080c10>"
      ]
     },
     "execution_count": 17,
     "metadata": {},
     "output_type": "execute_result"
    },
    {
     "data": {
      "image/png": "[encoded data removed]",
      "text/plain": [
       "<Figure size 432x432 with 3 Axes>"
      ]
     },
     "metadata": {
      "needs_background": "light"
     },
     "output_type": "display_data"
    }
   ],
   "source": [
    "sns.jointplot(x=\"Labor Hours\",y=\"Production (short tons)\",data=df)"
   ]
  },
  {
   "cell_type": "code",
   "execution_count": 18,
   "id": "a880eb29",
   "metadata": {},
   "outputs": [
    {
     "data": {
      "text/plain": [
       "<AxesSubplot:xlabel='Mine Status', ylabel='count'>"
      ]
     },
     "execution_count": 18,
     "metadata": {},
     "output_type": "execute_result"
    },
    {
     "data": {
      "image/png": "[encoded data removed]",
      "text/plain": [
       "<Figure size 432x288 with 1 Axes>"
      ]
     },
     "metadata": {
      "needs_background": "light"
     },
     "output_type": "display_data"
    }
   ],
   "source": [
    "sns.countplot(x='Mine Status',data=df)"
   ]
  },
  {
   "cell_type": "code",
   "execution_count": 19,
   "id": "bf72e3da",
   "metadata": {},
   "outputs": [
    {
     "data": {
      "text/plain": [
       "<AxesSubplot:xlabel='Mine Type', ylabel='count'>"
      ]
     },
     "execution_count": 19,
     "metadata": {},
     "output_type": "execute_result"
    },
    {
     "data": {
      "image/png": "[encoded data removed]",
      "text/plain": [
       "<Figure size 432x288 with 1 Axes>"
      ]
     },
     "metadata": {
      "needs_background": "light"
     },
     "output_type": "display_data"
    }
   ],
   "source": [
    "sns.countplot(x='Mine Type',data=df)"
   ]
  },
  {
   "cell_type": "code",
   "execution_count": 20,
   "id": "26c7da8e",
   "metadata": {},
   "outputs": [
    {
     "data": {
      "text/plain": [
       "<AxesSubplot:xlabel='Company Type', ylabel='count'>"
      ]
     },
     "execution_count": 20,
     "metadata": {},
     "output_type": "execute_result"
    },
    {
     "data": {
      "image/png": "[encoded data removed]",
      "text/plain": [
       "<Figure size 432x288 with 1 Axes>"
      ]
     },
     "metadata": {
      "needs_background": "light"
     },
     "output_type": "display_data"
    }
   ],
   "source": [
    "sns.countplot(x='Company Type',data=df)"
   ]
  },
  {
   "cell_type": "code",
   "execution_count": 21,
   "id": "33ab582a",
   "metadata": {},
   "outputs": [
    {
     "data": {
      "text/plain": [
       "<AxesSubplot:xlabel='Operation Type', ylabel='count'>"
      ]
     },
     "execution_count": 21,
     "metadata": {},
     "output_type": "execute_result"
    },
    {
     "data": {
      "image/png": "[encoded data removed]",
      "text/plain": [
       "<Figure size 432x288 with 1 Axes>"
      ]
     },
     "metadata": {
      "needs_background": "light"
     },
     "output_type": "display_data"
    }
   ],
   "source": [
    "sns.countplot(x='Operation Type',data=df)"
   ]
  },
  {
   "cell_type": "code",
   "execution_count": 22,
   "id": "e20823f4",
   "metadata": {},
   "outputs": [
    {
     "data": {
      "text/plain": [
       "<AxesSubplot:xlabel='Coal Supply Region', ylabel='count'>"
      ]
     },
     "execution_count": 22,
     "metadata": {},
     "output_type": "execute_result"
    },
    {
     "data": {
      "image/png": "[encoded data removed]",
      "text/plain": [
       "<Figure size 432x288 with 1 Axes>"
      ]
     },
     "metadata": {
      "needs_background": "light"
     },
     "output_type": "display_data"
    }
   ],
   "source": [
    "sns.countplot(x='Coal Supply Region',data=df)"
   ]
  },
  {
   "cell_type": "code",
   "execution_count": 23,
   "id": "22be52d2",
   "metadata": {},
   "outputs": [],
   "source": [
    "df = pd.get_dummies(df,columns=[\"Mine Status\",\"Mine Type\",\"Company Type\",\"Operation Type\",\"Coal Supply Region\"],drop_first=True)"
   ]
  },
  {
   "cell_type": "code",
   "execution_count": 24,
   "id": "b43c9ec2",
   "metadata": {},
   "outputs": [
    {
     "data": {
      "text/html": [
       "<div>\n",
       "<style scoped>\n",
       "    .dataframe tbody tr th:only-of-type {\n",
       "        vertical-align: middle;\n",
       "    }\n",
       "\n",
       "    .dataframe tbody tr th {\n",
       "        vertical-align: top;\n",
       "    }\n",
       "\n",
       "    .dataframe thead th {\n",
       "        text-align: right;\n",
       "    }\n",
       "</style>\n",
       "<table border=\"1\" class=\"dataframe\">\n",
       "  <thead>\n",
       "    <tr style=\"text-align: right;\">\n",
       "      <th></th>\n",
       "      <th>Production (short tons)</th>\n",
       "      <th>Average Employees</th>\n",
       "      <th>Labor Hours</th>\n",
       "      <th>Mine Status_Active, men working, not producing</th>\n",
       "      <th>Mine Status_Permanently abandoned</th>\n",
       "      <th>Mine Status_Temporarily closed</th>\n",
       "      <th>Mine Type_Surface</th>\n",
       "      <th>Mine Type_Underground</th>\n",
       "      <th>Company Type_Operating Subsidiary</th>\n",
       "      <th>Operation Type_Mine only</th>\n",
       "      <th>Coal Supply Region_Appalachia Northern</th>\n",
       "      <th>Coal Supply Region_Appalachia Southern</th>\n",
       "      <th>Coal Supply Region_Illinois Basin</th>\n",
       "      <th>Coal Supply Region_Interior</th>\n",
       "      <th>Coal Supply Region_Powder River Basin</th>\n",
       "      <th>Coal Supply Region_Uinta Region</th>\n",
       "      <th>Coal Supply Region_Western</th>\n",
       "    </tr>\n",
       "  </thead>\n",
       "  <tbody>\n",
       "    <tr>\n",
       "      <th>Production (short tons)</th>\n",
       "      <td>1.000000</td>\n",
       "      <td>0.725804</td>\n",
       "      <td>0.684460</td>\n",
       "      <td>-0.088447</td>\n",
       "      <td>-0.049230</td>\n",
       "      <td>-0.063938</td>\n",
       "      <td>-0.000045</td>\n",
       "      <td>0.005098</td>\n",
       "      <td>0.195131</td>\n",
       "      <td>-0.353921</td>\n",
       "      <td>-0.088651</td>\n",
       "      <td>-0.027805</td>\n",
       "      <td>0.050116</td>\n",
       "      <td>0.031199</td>\n",
       "      <td>0.576575</td>\n",
       "      <td>0.032202</td>\n",
       "      <td>0.097183</td>\n",
       "    </tr>\n",
       "    <tr>\n",
       "      <th>Average Employees</th>\n",
       "      <td>0.725804</td>\n",
       "      <td>1.000000</td>\n",
       "      <td>0.989897</td>\n",
       "      <td>-0.119836</td>\n",
       "      <td>-0.089345</td>\n",
       "      <td>-0.123489</td>\n",
       "      <td>-0.259472</td>\n",
       "      <td>0.272135</td>\n",
       "      <td>0.368143</td>\n",
       "      <td>-0.464700</td>\n",
       "      <td>-0.109032</td>\n",
       "      <td>0.038898</td>\n",
       "      <td>0.139180</td>\n",
       "      <td>0.068704</td>\n",
       "      <td>0.311033</td>\n",
       "      <td>0.135361</td>\n",
       "      <td>0.167535</td>\n",
       "    </tr>\n",
       "    <tr>\n",
       "      <th>Labor Hours</th>\n",
       "      <td>0.684460</td>\n",
       "      <td>0.989897</td>\n",
       "      <td>1.000000</td>\n",
       "      <td>-0.116900</td>\n",
       "      <td>-0.093905</td>\n",
       "      <td>-0.125055</td>\n",
       "      <td>-0.273507</td>\n",
       "      <td>0.286471</td>\n",
       "      <td>0.349042</td>\n",
       "      <td>-0.457307</td>\n",
       "      <td>-0.107450</td>\n",
       "      <td>0.066039</td>\n",
       "      <td>0.148881</td>\n",
       "      <td>0.055498</td>\n",
       "      <td>0.274496</td>\n",
       "      <td>0.132173</td>\n",
       "      <td>0.151605</td>\n",
       "    </tr>\n",
       "    <tr>\n",
       "      <th>Mine Status_Active, men working, not producing</th>\n",
       "      <td>-0.088447</td>\n",
       "      <td>-0.119836</td>\n",
       "      <td>-0.116900</td>\n",
       "      <td>1.000000</td>\n",
       "      <td>-0.093567</td>\n",
       "      <td>-0.118449</td>\n",
       "      <td>-0.005486</td>\n",
       "      <td>0.015280</td>\n",
       "      <td>0.013752</td>\n",
       "      <td>0.026252</td>\n",
       "      <td>-0.163866</td>\n",
       "      <td>0.045961</td>\n",
       "      <td>0.072603</td>\n",
       "      <td>0.032105</td>\n",
       "      <td>-0.074222</td>\n",
       "      <td>-0.029786</td>\n",
       "      <td>-0.076578</td>\n",
       "    </tr>\n",
       "    <tr>\n",
       "      <th>Mine Status_Permanently abandoned</th>\n",
       "      <td>-0.049230</td>\n",
       "      <td>-0.089345</td>\n",
       "      <td>-0.093905</td>\n",
       "      <td>-0.093567</td>\n",
       "      <td>1.000000</td>\n",
       "      <td>-0.060053</td>\n",
       "      <td>0.002687</td>\n",
       "      <td>-0.015963</td>\n",
       "      <td>-0.053965</td>\n",
       "      <td>0.077475</td>\n",
       "      <td>-0.017332</td>\n",
       "      <td>-0.007301</td>\n",
       "      <td>0.039936</td>\n",
       "      <td>-0.033825</td>\n",
       "      <td>-0.037631</td>\n",
       "      <td>-0.032468</td>\n",
       "      <td>-0.038825</td>\n",
       "    </tr>\n",
       "    <tr>\n",
       "      <th>Mine Status_Temporarily closed</th>\n",
       "      <td>-0.063938</td>\n",
       "      <td>-0.123489</td>\n",
       "      <td>-0.125055</td>\n",
       "      <td>-0.118449</td>\n",
       "      <td>-0.060053</td>\n",
       "      <td>1.000000</td>\n",
       "      <td>0.092051</td>\n",
       "      <td>-0.086395</td>\n",
       "      <td>-0.089206</td>\n",
       "      <td>0.075688</td>\n",
       "      <td>0.024855</td>\n",
       "      <td>-0.061301</td>\n",
       "      <td>0.004743</td>\n",
       "      <td>-0.042820</td>\n",
       "      <td>-0.047638</td>\n",
       "      <td>-0.041102</td>\n",
       "      <td>-0.049150</td>\n",
       "    </tr>\n",
       "    <tr>\n",
       "      <th>Mine Type_Surface</th>\n",
       "      <td>-0.000045</td>\n",
       "      <td>-0.259472</td>\n",
       "      <td>-0.273507</td>\n",
       "      <td>-0.005486</td>\n",
       "      <td>0.002687</td>\n",
       "      <td>0.092051</td>\n",
       "      <td>1.000000</td>\n",
       "      <td>-0.976700</td>\n",
       "      <td>-0.177307</td>\n",
       "      <td>0.027533</td>\n",
       "      <td>0.089228</td>\n",
       "      <td>0.062390</td>\n",
       "      <td>-0.077789</td>\n",
       "      <td>0.117983</td>\n",
       "      <td>0.131256</td>\n",
       "      <td>-0.118856</td>\n",
       "      <td>0.048348</td>\n",
       "    </tr>\n",
       "    <tr>\n",
       "      <th>Mine Type_Underground</th>\n",
       "      <td>0.005098</td>\n",
       "      <td>0.272135</td>\n",
       "      <td>0.286471</td>\n",
       "      <td>0.015280</td>\n",
       "      <td>-0.015963</td>\n",
       "      <td>-0.086395</td>\n",
       "      <td>-0.976700</td>\n",
       "      <td>1.000000</td>\n",
       "      <td>0.188899</td>\n",
       "      <td>-0.035794</td>\n",
       "      <td>-0.090613</td>\n",
       "      <td>-0.057751</td>\n",
       "      <td>0.070049</td>\n",
       "      <td>-0.115234</td>\n",
       "      <td>-0.128198</td>\n",
       "      <td>0.123026</td>\n",
       "      <td>-0.044618</td>\n",
       "    </tr>\n",
       "    <tr>\n",
       "      <th>Company Type_Operating Subsidiary</th>\n",
       "      <td>0.195131</td>\n",
       "      <td>0.368143</td>\n",
       "      <td>0.349042</td>\n",
       "      <td>0.013752</td>\n",
       "      <td>-0.053965</td>\n",
       "      <td>-0.089206</td>\n",
       "      <td>-0.177307</td>\n",
       "      <td>0.188899</td>\n",
       "      <td>1.000000</td>\n",
       "      <td>-0.154656</td>\n",
       "      <td>-0.250980</td>\n",
       "      <td>-0.102011</td>\n",
       "      <td>0.019237</td>\n",
       "      <td>0.149367</td>\n",
       "      <td>0.120150</td>\n",
       "      <td>0.029924</td>\n",
       "      <td>0.222517</td>\n",
       "    </tr>\n",
       "    <tr>\n",
       "      <th>Operation Type_Mine only</th>\n",
       "      <td>-0.353921</td>\n",
       "      <td>-0.464700</td>\n",
       "      <td>-0.457307</td>\n",
       "      <td>0.026252</td>\n",
       "      <td>0.077475</td>\n",
       "      <td>0.075688</td>\n",
       "      <td>0.027533</td>\n",
       "      <td>-0.035794</td>\n",
       "      <td>-0.154656</td>\n",
       "      <td>1.000000</td>\n",
       "      <td>0.032745</td>\n",
       "      <td>-0.029240</td>\n",
       "      <td>-0.232525</td>\n",
       "      <td>0.055243</td>\n",
       "      <td>-0.348920</td>\n",
       "      <td>-0.143684</td>\n",
       "      <td>-0.169048</td>\n",
       "    </tr>\n",
       "    <tr>\n",
       "      <th>Coal Supply Region_Appalachia Northern</th>\n",
       "      <td>-0.088651</td>\n",
       "      <td>-0.109032</td>\n",
       "      <td>-0.107450</td>\n",
       "      <td>-0.163866</td>\n",
       "      <td>-0.017332</td>\n",
       "      <td>0.024855</td>\n",
       "      <td>0.089228</td>\n",
       "      <td>-0.090613</td>\n",
       "      <td>-0.250980</td>\n",
       "      <td>0.032745</td>\n",
       "      <td>1.000000</td>\n",
       "      <td>-0.151475</td>\n",
       "      <td>-0.190434</td>\n",
       "      <td>-0.105810</td>\n",
       "      <td>-0.117713</td>\n",
       "      <td>-0.101565</td>\n",
       "      <td>-0.121450</td>\n",
       "    </tr>\n",
       "    <tr>\n",
       "      <th>Coal Supply Region_Appalachia Southern</th>\n",
       "      <td>-0.027805</td>\n",
       "      <td>0.038898</td>\n",
       "      <td>0.066039</td>\n",
       "      <td>0.045961</td>\n",
       "      <td>-0.007301</td>\n",
       "      <td>-0.061301</td>\n",
       "      <td>0.062390</td>\n",
       "      <td>-0.057751</td>\n",
       "      <td>-0.102011</td>\n",
       "      <td>-0.029240</td>\n",
       "      <td>-0.151475</td>\n",
       "      <td>1.000000</td>\n",
       "      <td>-0.062143</td>\n",
       "      <td>-0.034528</td>\n",
       "      <td>-0.038412</td>\n",
       "      <td>-0.033143</td>\n",
       "      <td>-0.039632</td>\n",
       "    </tr>\n",
       "    <tr>\n",
       "      <th>Coal Supply Region_Illinois Basin</th>\n",
       "      <td>0.050116</td>\n",
       "      <td>0.139180</td>\n",
       "      <td>0.148881</td>\n",
       "      <td>0.072603</td>\n",
       "      <td>0.039936</td>\n",
       "      <td>0.004743</td>\n",
       "      <td>-0.077789</td>\n",
       "      <td>0.070049</td>\n",
       "      <td>0.019237</td>\n",
       "      <td>-0.232525</td>\n",
       "      <td>-0.190434</td>\n",
       "      <td>-0.062143</td>\n",
       "      <td>1.000000</td>\n",
       "      <td>-0.043408</td>\n",
       "      <td>-0.048292</td>\n",
       "      <td>-0.041667</td>\n",
       "      <td>-0.049824</td>\n",
       "    </tr>\n",
       "    <tr>\n",
       "      <th>Coal Supply Region_Interior</th>\n",
       "      <td>0.031199</td>\n",
       "      <td>0.068704</td>\n",
       "      <td>0.055498</td>\n",
       "      <td>0.032105</td>\n",
       "      <td>-0.033825</td>\n",
       "      <td>-0.042820</td>\n",
       "      <td>0.117983</td>\n",
       "      <td>-0.115234</td>\n",
       "      <td>0.149367</td>\n",
       "      <td>0.055243</td>\n",
       "      <td>-0.105810</td>\n",
       "      <td>-0.034528</td>\n",
       "      <td>-0.043408</td>\n",
       "      <td>1.000000</td>\n",
       "      <td>-0.026832</td>\n",
       "      <td>-0.023151</td>\n",
       "      <td>-0.027684</td>\n",
       "    </tr>\n",
       "    <tr>\n",
       "      <th>Coal Supply Region_Powder River Basin</th>\n",
       "      <td>0.576575</td>\n",
       "      <td>0.311033</td>\n",
       "      <td>0.274496</td>\n",
       "      <td>-0.074222</td>\n",
       "      <td>-0.037631</td>\n",
       "      <td>-0.047638</td>\n",
       "      <td>0.131256</td>\n",
       "      <td>-0.128198</td>\n",
       "      <td>0.120150</td>\n",
       "      <td>-0.348920</td>\n",
       "      <td>-0.117713</td>\n",
       "      <td>-0.038412</td>\n",
       "      <td>-0.048292</td>\n",
       "      <td>-0.026832</td>\n",
       "      <td>1.000000</td>\n",
       "      <td>-0.025756</td>\n",
       "      <td>-0.030798</td>\n",
       "    </tr>\n",
       "    <tr>\n",
       "      <th>Coal Supply Region_Uinta Region</th>\n",
       "      <td>0.032202</td>\n",
       "      <td>0.135361</td>\n",
       "      <td>0.132173</td>\n",
       "      <td>-0.029786</td>\n",
       "      <td>-0.032468</td>\n",
       "      <td>-0.041102</td>\n",
       "      <td>-0.118856</td>\n",
       "      <td>0.123026</td>\n",
       "      <td>0.029924</td>\n",
       "      <td>-0.143684</td>\n",
       "      <td>-0.101565</td>\n",
       "      <td>-0.033143</td>\n",
       "      <td>-0.041667</td>\n",
       "      <td>-0.023151</td>\n",
       "      <td>-0.025756</td>\n",
       "      <td>1.000000</td>\n",
       "      <td>-0.026573</td>\n",
       "    </tr>\n",
       "    <tr>\n",
       "      <th>Coal Supply Region_Western</th>\n",
       "      <td>0.097183</td>\n",
       "      <td>0.167535</td>\n",
       "      <td>0.151605</td>\n",
       "      <td>-0.076578</td>\n",
       "      <td>-0.038825</td>\n",
       "      <td>-0.049150</td>\n",
       "      <td>0.048348</td>\n",
       "      <td>-0.044618</td>\n",
       "      <td>0.222517</td>\n",
       "      <td>-0.169048</td>\n",
       "      <td>-0.121450</td>\n",
       "      <td>-0.039632</td>\n",
       "      <td>-0.049824</td>\n",
       "      <td>-0.027684</td>\n",
       "      <td>-0.030798</td>\n",
       "      <td>-0.026573</td>\n",
       "      <td>1.000000</td>\n",
       "    </tr>\n",
       "  </tbody>\n",
       "</table>\n",
       "</div>"
      ],
      "text/plain": [
       "                                                Production (short tons)  \\\n",
       "Production (short tons)                                        1.000000   \n",
       "Average Employees                                              0.725804   \n",
       "Labor Hours                                                    0.684460   \n",
       "Mine Status_Active, men working, not producing                -0.088447   \n",
       "Mine Status_Permanently abandoned                             -0.049230   \n",
       "Mine Status_Temporarily closed                                -0.063938   \n",
       "Mine Type_Surface                                             -0.000045   \n",
       "Mine Type_Underground                                          0.005098   \n",
       "Company Type_Operating Subsidiary                              0.195131   \n",
       "Operation Type_Mine only                                      -0.353921   \n",
       "Coal Supply Region_Appalachia Northern                        -0.088651   \n",
       "Coal Supply Region_Appalachia Southern                        -0.027805   \n",
       "Coal Supply Region_Illinois Basin                              0.050116   \n",
       "Coal Supply Region_Interior                                    0.031199   \n",
       "Coal Supply Region_Powder River Basin                          0.576575   \n",
       "Coal Supply Region_Uinta Region                                0.032202   \n",
       "Coal Supply Region_Western                                     0.097183   \n",
       "\n",
       "                                                Average Employees  \\\n",
       "Production (short tons)                                  0.725804   \n",
       "Average Employees                                        1.000000   \n",
       "Labor Hours                                              0.989897   \n",
       "Mine Status_Active, men working, not producing          -0.119836   \n",
       "Mine Status_Permanently abandoned                       -0.089345   \n",
       "Mine Status_Temporarily closed                          -0.123489   \n",
       "Mine Type_Surface                                       -0.259472   \n",
       "Mine Type_Underground                                    0.272135   \n",
       "Company Type_Operating Subsidiary                        0.368143   \n",
       "Operation Type_Mine only                                -0.464700   \n",
       "Coal Supply Region_Appalachia Northern                  -0.109032   \n",
       "Coal Supply Region_Appalachia Southern                   0.038898   \n",
       "Coal Supply Region_Illinois Basin                        0.139180   \n",
       "Coal Supply Region_Interior                              0.068704   \n",
       "Coal Supply Region_Powder River Basin                    0.311033   \n",
       "Coal Supply Region_Uinta Region                          0.135361   \n",
       "Coal Supply Region_Western                               0.167535   \n",
       "\n",
       "                                                Labor Hours  \\\n",
       "Production (short tons)                            0.684460   \n",
       "Average Employees                                  0.989897   \n",
       "Labor Hours                                        1.000000   \n",
       "Mine Status_Active, men working, not producing    -0.116900   \n",
       "Mine Status_Permanently abandoned                 -0.093905   \n",
       "Mine Status_Temporarily closed                    -0.125055   \n",
       "Mine Type_Surface                                 -0.273507   \n",
       "Mine Type_Underground                              0.286471   \n",
       "Company Type_Operating Subsidiary                  0.349042   \n",
       "Operation Type_Mine only                          -0.457307   \n",
       "Coal Supply Region_Appalachia Northern            -0.107450   \n",
       "Coal Supply Region_Appalachia Southern             0.066039   \n",
       "Coal Supply Region_Illinois Basin                  0.148881   \n",
       "Coal Supply Region_Interior                        0.055498   \n",
       "Coal Supply Region_Powder River Basin              0.274496   \n",
       "Coal Supply Region_Uinta Region                    0.132173   \n",
       "Coal Supply Region_Western                         0.151605   \n",
       "\n",
       "                                                Mine Status_Active, men working, not producing  \\\n",
       "Production (short tons)                                                              -0.088447   \n",
       "Average Employees                                                                    -0.119836   \n",
       "Labor Hours                                                                          -0.116900   \n",
       "Mine Status_Active, men working, not producing                                        1.000000   \n",
       "Mine Status_Permanently abandoned                                                    -0.093567   \n",
       "Mine Status_Temporarily closed                                                       -0.118449   \n",
       "Mine Type_Surface                                                                    -0.005486   \n",
       "Mine Type_Underground                                                                 0.015280   \n",
       "Company Type_Operating Subsidiary                                                     0.013752   \n",
       "Operation Type_Mine only                                                              0.026252   \n",
       "Coal Supply Region_Appalachia Northern                                               -0.163866   \n",
       "Coal Supply Region_Appalachia Southern                                                0.045961   \n",
       "Coal Supply Region_Illinois Basin                                                     0.072603   \n",
       "Coal Supply Region_Interior                                                           0.032105   \n",
       "Coal Supply Region_Powder River Basin                                                -0.074222   \n",
       "Coal Supply Region_Uinta Region                                                      -0.029786   \n",
       "Coal Supply Region_Western                                                           -0.076578   \n",
       "\n",
       "                                                Mine Status_Permanently abandoned  \\\n",
       "Production (short tons)                                                 -0.049230   \n",
       "Average Employees                                                       -0.089345   \n",
       "Labor Hours                                                             -0.093905   \n",
       "Mine Status_Active, men working, not producing                          -0.093567   \n",
       "Mine Status_Permanently abandoned                                        1.000000   \n",
       "Mine Status_Temporarily closed                                          -0.060053   \n",
       "Mine Type_Surface                                                        0.002687   \n",
       "Mine Type_Underground                                                   -0.015963   \n",
       "Company Type_Operating Subsidiary                                       -0.053965   \n",
       "Operation Type_Mine only                                                 0.077475   \n",
       "Coal Supply Region_Appalachia Northern                                  -0.017332   \n",
       "Coal Supply Region_Appalachia Southern                                  -0.007301   \n",
       "Coal Supply Region_Illinois Basin                                        0.039936   \n",
       "Coal Supply Region_Interior                                             -0.033825   \n",
       "Coal Supply Region_Powder River Basin                                   -0.037631   \n",
       "Coal Supply Region_Uinta Region                                         -0.032468   \n",
       "Coal Supply Region_Western                                              -0.038825   \n",
       "\n",
       "                                                Mine Status_Temporarily closed  \\\n",
       "Production (short tons)                                              -0.063938   \n",
       "Average Employees                                                    -0.123489   \n",
       "Labor Hours                                                          -0.125055   \n",
       "Mine Status_Active, men working, not producing                       -0.118449   \n",
       "Mine Status_Permanently abandoned                                    -0.060053   \n",
       "Mine Status_Temporarily closed                                        1.000000   \n",
       "Mine Type_Surface                                                     0.092051   \n",
       "Mine Type_Underground                                                -0.086395   \n",
       "Company Type_Operating Subsidiary                                    -0.089206   \n",
       "Operation Type_Mine only                                              0.075688   \n",
       "Coal Supply Region_Appalachia Northern                                0.024855   \n",
       "Coal Supply Region_Appalachia Southern                               -0.061301   \n",
       "Coal Supply Region_Illinois Basin                                     0.004743   \n",
       "Coal Supply Region_Interior                                          -0.042820   \n",
       "Coal Supply Region_Powder River Basin                                -0.047638   \n",
       "Coal Supply Region_Uinta Region                                      -0.041102   \n",
       "Coal Supply Region_Western                                           -0.049150   \n",
       "\n",
       "                                                Mine Type_Surface  \\\n",
       "Production (short tons)                                 -0.000045   \n",
       "Average Employees                                       -0.259472   \n",
       "Labor Hours                                             -0.273507   \n",
       "Mine Status_Active, men working, not producing          -0.005486   \n",
       "Mine Status_Permanently abandoned                        0.002687   \n",
       "Mine Status_Temporarily closed                           0.092051   \n",
       "Mine Type_Surface                                        1.000000   \n",
       "Mine Type_Underground                                   -0.976700   \n",
       "Company Type_Operating Subsidiary                       -0.177307   \n",
       "Operation Type_Mine only                                 0.027533   \n",
       "Coal Supply Region_Appalachia Northern                   0.089228   \n",
       "Coal Supply Region_Appalachia Southern                   0.062390   \n",
       "Coal Supply Region_Illinois Basin                       -0.077789   \n",
       "Coal Supply Region_Interior                              0.117983   \n",
       "Coal Supply Region_Powder River Basin                    0.131256   \n",
       "Coal Supply Region_Uinta Region                         -0.118856   \n",
       "Coal Supply Region_Western                               0.048348   \n",
       "\n",
       "                                                Mine Type_Underground  \\\n",
       "Production (short tons)                                      0.005098   \n",
       "Average Employees                                            0.272135   \n",
       "Labor Hours                                                  0.286471   \n",
       "Mine Status_Active, men working, not producing               0.015280   \n",
       "Mine Status_Permanently abandoned                           -0.015963   \n",
       "Mine Status_Temporarily closed                              -0.086395   \n",
       "Mine Type_Surface                                           -0.976700   \n",
       "Mine Type_Underground                                        1.000000   \n",
       "Company Type_Operating Subsidiary                            0.188899   \n",
       "Operation Type_Mine only                                    -0.035794   \n",
       "Coal Supply Region_Appalachia Northern                      -0.090613   \n",
       "Coal Supply Region_Appalachia Southern                      -0.057751   \n",
       "Coal Supply Region_Illinois Basin                            0.070049   \n",
       "Coal Supply Region_Interior                                 -0.115234   \n",
       "Coal Supply Region_Powder River Basin                       -0.128198   \n",
       "Coal Supply Region_Uinta Region                              0.123026   \n",
       "Coal Supply Region_Western                                  -0.044618   \n",
       "\n",
       "                                                Company Type_Operating Subsidiary  \\\n",
       "Production (short tons)                                                  0.195131   \n",
       "Average Employees                                                        0.368143   \n",
       "Labor Hours                                                              0.349042   \n",
       "Mine Status_Active, men working, not producing                           0.013752   \n",
       "Mine Status_Permanently abandoned                                       -0.053965   \n",
       "Mine Status_Temporarily closed                                          -0.089206   \n",
       "Mine Type_Surface                                                       -0.177307   \n",
       "Mine Type_Underground                                                    0.188899   \n",
       "Company Type_Operating Subsidiary                                        1.000000   \n",
       "Operation Type_Mine only                                                -0.154656   \n",
       "Coal Supply Region_Appalachia Northern                                  -0.250980   \n",
       "Coal Supply Region_Appalachia Southern                                  -0.102011   \n",
       "Coal Supply Region_Illinois Basin                                        0.019237   \n",
       "Coal Supply Region_Interior                                              0.149367   \n",
       "Coal Supply Region_Powder River Basin                                    0.120150   \n",
       "Coal Supply Region_Uinta Region                                          0.029924   \n",
       "Coal Supply Region_Western                                               0.222517   \n",
       "\n",
       "                                                Operation Type_Mine only  \\\n",
       "Production (short tons)                                        -0.353921   \n",
       "Average Employees                                              -0.464700   \n",
       "Labor Hours                                                    -0.457307   \n",
       "Mine Status_Active, men working, not producing                  0.026252   \n",
       "Mine Status_Permanently abandoned                               0.077475   \n",
       "Mine Status_Temporarily closed                                  0.075688   \n",
       "Mine Type_Surface                                               0.027533   \n",
       "Mine Type_Underground                                          -0.035794   \n",
       "Company Type_Operating Subsidiary                              -0.154656   \n",
       "Operation Type_Mine only                                        1.000000   \n",
       "Coal Supply Region_Appalachia Northern                          0.032745   \n",
       "Coal Supply Region_Appalachia Southern                         -0.029240   \n",
       "Coal Supply Region_Illinois Basin                              -0.232525   \n",
       "Coal Supply Region_Interior                                     0.055243   \n",
       "Coal Supply Region_Powder River Basin                          -0.348920   \n",
       "Coal Supply Region_Uinta Region                                -0.143684   \n",
       "Coal Supply Region_Western                                     -0.169048   \n",
       "\n",
       "                                                Coal Supply Region_Appalachia Northern  \\\n",
       "Production (short tons)                                                      -0.088651   \n",
       "Average Employees                                                            -0.109032   \n",
       "Labor Hours                                                                  -0.107450   \n",
       "Mine Status_Active, men working, not producing                               -0.163866   \n",
       "Mine Status_Permanently abandoned                                            -0.017332   \n",
       "Mine Status_Temporarily closed                                                0.024855   \n",
       "Mine Type_Surface                                                             0.089228   \n",
       "Mine Type_Underground                                                        -0.090613   \n",
       "Company Type_Operating Subsidiary                                            -0.250980   \n",
       "Operation Type_Mine only                                                      0.032745   \n",
       "Coal Supply Region_Appalachia Northern                                        1.000000   \n",
       "Coal Supply Region_Appalachia Southern                                       -0.151475   \n",
       "Coal Supply Region_Illinois Basin                                            -0.190434   \n",
       "Coal Supply Region_Interior                                                  -0.105810   \n",
       "Coal Supply Region_Powder River Basin                                        -0.117713   \n",
       "Coal Supply Region_Uinta Region                                              -0.101565   \n",
       "Coal Supply Region_Western                                                   -0.121450   \n",
       "\n",
       "                                                Coal Supply Region_Appalachia Southern  \\\n",
       "Production (short tons)                                                      -0.027805   \n",
       "Average Employees                                                             0.038898   \n",
       "Labor Hours                                                                   0.066039   \n",
       "Mine Status_Active, men working, not producing                                0.045961   \n",
       "Mine Status_Permanently abandoned                                            -0.007301   \n",
       "Mine Status_Temporarily closed                                               -0.061301   \n",
       "Mine Type_Surface                                                             0.062390   \n",
       "Mine Type_Underground                                                        -0.057751   \n",
       "Company Type_Operating Subsidiary                                            -0.102011   \n",
       "Operation Type_Mine only                                                     -0.029240   \n",
       "Coal Supply Region_Appalachia Northern                                       -0.151475   \n",
       "Coal Supply Region_Appalachia Southern                                        1.000000   \n",
       "Coal Supply Region_Illinois Basin                                            -0.062143   \n",
       "Coal Supply Region_Interior                                                  -0.034528   \n",
       "Coal Supply Region_Powder River Basin                                        -0.038412   \n",
       "Coal Supply Region_Uinta Region                                              -0.033143   \n",
       "Coal Supply Region_Western                                                   -0.039632   \n",
       "\n",
       "                                                Coal Supply Region_Illinois Basin  \\\n",
       "Production (short tons)                                                  0.050116   \n",
       "Average Employees                                                        0.139180   \n",
       "Labor Hours                                                              0.148881   \n",
       "Mine Status_Active, men working, not producing                           0.072603   \n",
       "Mine Status_Permanently abandoned                                        0.039936   \n",
       "Mine Status_Temporarily closed                                           0.004743   \n",
       "Mine Type_Surface                                                       -0.077789   \n",
       "Mine Type_Underground                                                    0.070049   \n",
       "Company Type_Operating Subsidiary                                        0.019237   \n",
       "Operation Type_Mine only                                                -0.232525   \n",
       "Coal Supply Region_Appalachia Northern                                  -0.190434   \n",
       "Coal Supply Region_Appalachia Southern                                  -0.062143   \n",
       "Coal Supply Region_Illinois Basin                                        1.000000   \n",
       "Coal Supply Region_Interior                                             -0.043408   \n",
       "Coal Supply Region_Powder River Basin                                   -0.048292   \n",
       "Coal Supply Region_Uinta Region                                         -0.041667   \n",
       "Coal Supply Region_Western                                              -0.049824   \n",
       "\n",
       "                                                Coal Supply Region_Interior  \\\n",
       "Production (short tons)                                            0.031199   \n",
       "Average Employees                                                  0.068704   \n",
       "Labor Hours                                                        0.055498   \n",
       "Mine Status_Active, men working, not producing                     0.032105   \n",
       "Mine Status_Permanently abandoned                                 -0.033825   \n",
       "Mine Status_Temporarily closed                                    -0.042820   \n",
       "Mine Type_Surface                                                  0.117983   \n",
       "Mine Type_Underground                                             -0.115234   \n",
       "Company Type_Operating Subsidiary                                  0.149367   \n",
       "Operation Type_Mine only                                           0.055243   \n",
       "Coal Supply Region_Appalachia Northern                            -0.105810   \n",
       "Coal Supply Region_Appalachia Southern                            -0.034528   \n",
       "Coal Supply Region_Illinois Basin                                 -0.043408   \n",
       "Coal Supply Region_Interior                                        1.000000   \n",
       "Coal Supply Region_Powder River Basin                             -0.026832   \n",
       "Coal Supply Region_Uinta Region                                   -0.023151   \n",
       "Coal Supply Region_Western                                        -0.027684   \n",
       "\n",
       "                                                Coal Supply Region_Powder River Basin  \\\n",
       "Production (short tons)                                                      0.576575   \n",
       "Average Employees                                                            0.311033   \n",
       "Labor Hours                                                                  0.274496   \n",
       "Mine Status_Active, men working, not producing                              -0.074222   \n",
       "Mine Status_Permanently abandoned                                           -0.037631   \n",
       "Mine Status_Temporarily closed                                              -0.047638   \n",
       "Mine Type_Surface                                                            0.131256   \n",
       "Mine Type_Underground                                                       -0.128198   \n",
       "Company Type_Operating Subsidiary                                            0.120150   \n",
       "Operation Type_Mine only                                                    -0.348920   \n",
       "Coal Supply Region_Appalachia Northern                                      -0.117713   \n",
       "Coal Supply Region_Appalachia Southern                                      -0.038412   \n",
       "Coal Supply Region_Illinois Basin                                           -0.048292   \n",
       "Coal Supply Region_Interior                                                 -0.026832   \n",
       "Coal Supply Region_Powder River Basin                                        1.000000   \n",
       "Coal Supply Region_Uinta Region                                             -0.025756   \n",
       "Coal Supply Region_Western                                                  -0.030798   \n",
       "\n",
       "                                                Coal Supply Region_Uinta Region  \\\n",
       "Production (short tons)                                                0.032202   \n",
       "Average Employees                                                      0.135361   \n",
       "Labor Hours                                                            0.132173   \n",
       "Mine Status_Active, men working, not producing                        -0.029786   \n",
       "Mine Status_Permanently abandoned                                     -0.032468   \n",
       "Mine Status_Temporarily closed                                        -0.041102   \n",
       "Mine Type_Surface                                                     -0.118856   \n",
       "Mine Type_Underground                                                  0.123026   \n",
       "Company Type_Operating Subsidiary                                      0.029924   \n",
       "Operation Type_Mine only                                              -0.143684   \n",
       "Coal Supply Region_Appalachia Northern                                -0.101565   \n",
       "Coal Supply Region_Appalachia Southern                                -0.033143   \n",
       "Coal Supply Region_Illinois Basin                                     -0.041667   \n",
       "Coal Supply Region_Interior                                           -0.023151   \n",
       "Coal Supply Region_Powder River Basin                                 -0.025756   \n",
       "Coal Supply Region_Uinta Region                                        1.000000   \n",
       "Coal Supply Region_Western                                            -0.026573   \n",
       "\n",
       "                                                Coal Supply Region_Western  \n",
       "Production (short tons)                                           0.097183  \n",
       "Average Employees                                                 0.167535  \n",
       "Labor Hours                                                       0.151605  \n",
       "Mine Status_Active, men working, not producing                   -0.076578  \n",
       "Mine Status_Permanently abandoned                                -0.038825  \n",
       "Mine Status_Temporarily closed                                   -0.049150  \n",
       "Mine Type_Surface                                                 0.048348  \n",
       "Mine Type_Underground                                            -0.044618  \n",
       "Company Type_Operating Subsidiary                                 0.222517  \n",
       "Operation Type_Mine only                                         -0.169048  \n",
       "Coal Supply Region_Appalachia Northern                           -0.121450  \n",
       "Coal Supply Region_Appalachia Southern                           -0.039632  \n",
       "Coal Supply Region_Illinois Basin                                -0.049824  \n",
       "Coal Supply Region_Interior                                      -0.027684  \n",
       "Coal Supply Region_Powder River Basin                            -0.030798  \n",
       "Coal Supply Region_Uinta Region                                  -0.026573  \n",
       "Coal Supply Region_Western                                        1.000000  "
      ]
     },
     "execution_count": 24,
     "metadata": {},
     "output_type": "execute_result"
    }
   ],
   "source": [
    "df.corr()"
   ]
  },
  {
   "cell_type": "markdown",
   "id": "3af26873",
   "metadata": {},
   "source": [
    "As we can see that 'Average Employees' and 'Labor Hours' are highly correlated with a correlation coefficient of 0.990320. This can lead to multiculinearity so we will delete one them,as 'Labor Hours' has a low correlation coefficient value with price when compared with 'Average Employees' so we will delete 'Labor Hours' column from our data"
   ]
  },
  {
   "cell_type": "code",
   "execution_count": 25,
   "id": "abb62d2b",
   "metadata": {},
   "outputs": [],
   "source": [
    "del df['Labor Hours']"
   ]
  },
  {
   "cell_type": "code",
   "execution_count": 26,
   "id": "e4c2e219",
   "metadata": {},
   "outputs": [],
   "source": [
    "# these have very low correlation coefficient with production \n",
    "del df['Mine Type_Surface']\n",
    "del df['Mine Type_Underground']"
   ]
  },
  {
   "cell_type": "markdown",
   "id": "82c895d7",
   "metadata": {},
   "source": [
    "### X - y split"
   ]
  },
  {
   "cell_type": "code",
   "execution_count": 27,
   "id": "2de72dcb",
   "metadata": {},
   "outputs": [],
   "source": [
    "X=df.loc[:,df.columns!=\"Production (short tons)\"]"
   ]
  },
  {
   "cell_type": "code",
   "execution_count": 28,
   "id": "9895e677",
   "metadata": {},
   "outputs": [],
   "source": [
    "y=df[\"Production (short tons)\"]"
   ]
  },
  {
   "cell_type": "markdown",
   "id": "6557079f",
   "metadata": {},
   "source": [
    "### Train - test split"
   ]
  },
  {
   "cell_type": "code",
   "execution_count": 29,
   "id": "83adfe96",
   "metadata": {},
   "outputs": [],
   "source": [
    "from sklearn.model_selection import train_test_split\n",
    "X_train,X_test,y_train,y_test = train_test_split(X,y,test_size=0.2,random_state=42)"
   ]
  },
  {
   "cell_type": "markdown",
   "id": "77ecf52c",
   "metadata": {},
   "source": [
    "### Multiple linear regression "
   ]
  },
  {
   "cell_type": "code",
   "execution_count": 30,
   "id": "e78c61b3",
   "metadata": {},
   "outputs": [],
   "source": [
    "from sklearn.linear_model import LinearRegression"
   ]
  },
  {
   "cell_type": "code",
   "execution_count": 31,
   "id": "64dddf39",
   "metadata": {},
   "outputs": [],
   "source": [
    "lm_a=LinearRegression()"
   ]
  },
  {
   "cell_type": "code",
   "execution_count": 32,
   "id": "d9c74a32",
   "metadata": {},
   "outputs": [
    {
     "data": {
      "text/plain": [
       "LinearRegression()"
      ]
     },
     "execution_count": 32,
     "metadata": {},
     "output_type": "execute_result"
    }
   ],
   "source": [
    "lm_a.fit(X_train,y_train)"
   ]
  },
  {
   "cell_type": "code",
   "execution_count": 33,
   "id": "6c87f3c1",
   "metadata": {},
   "outputs": [],
   "source": [
    "from sklearn.metrics import mean_squared_error, r2_score"
   ]
  },
  {
   "cell_type": "code",
   "execution_count": 34,
   "id": "9632751f",
   "metadata": {},
   "outputs": [
    {
     "data": {
      "text/plain": [
       "0.5680592217388427"
      ]
     },
     "execution_count": 34,
     "metadata": {},
     "output_type": "execute_result"
    }
   ],
   "source": [
    "r2_score(y_test,lm_a.predict(X_test))"
   ]
  },
  {
   "cell_type": "markdown",
   "id": "f560621e",
   "metadata": {},
   "source": [
    "### Ridge and lasso regression "
   ]
  },
  {
   "cell_type": "code",
   "execution_count": 35,
   "id": "fcb34468",
   "metadata": {},
   "outputs": [
    {
     "data": {
      "text/plain": [
       "Ridge(alpha=0.5)"
      ]
     },
     "execution_count": 35,
     "metadata": {},
     "output_type": "execute_result"
    }
   ],
   "source": [
    "from sklearn import preprocessing\n",
    "scaler =preprocessing.StandardScaler().fit(X_train)\n",
    "X_train_s= scaler.transform(X_train)\n",
    "X_test_s =scaler.transform(X_test)\n",
    "from sklearn.linear_model import Ridge\n",
    "lm_r =Ridge(alpha=0.5)\n",
    "lm_r.fit(X_train_s,y_train)"
   ]
  },
  {
   "cell_type": "code",
   "execution_count": 36,
   "id": "14ddbb57",
   "metadata": {},
   "outputs": [
    {
     "data": {
      "text/plain": [
       "0.5676526779726814"
      ]
     },
     "execution_count": 36,
     "metadata": {},
     "output_type": "execute_result"
    }
   ],
   "source": [
    "r2_score(y_test,lm_r.predict(X_test_s))"
   ]
  },
  {
   "cell_type": "code",
   "execution_count": 37,
   "id": "f3531c8f",
   "metadata": {},
   "outputs": [
    {
     "data": {
      "text/plain": [
       "Lasso(alpha=0.4)"
      ]
     },
     "execution_count": 37,
     "metadata": {},
     "output_type": "execute_result"
    }
   ],
   "source": [
    "from sklearn.linear_model import Lasso\n",
    "lm_l=Lasso(alpha =0.4)\n",
    "lm_l.fit(X_train_s,y_train)"
   ]
  },
  {
   "cell_type": "code",
   "execution_count": 38,
   "id": "1b100d6b",
   "metadata": {},
   "outputs": [
    {
     "data": {
      "text/plain": [
       "0.5680591386529836"
      ]
     },
     "execution_count": 38,
     "metadata": {},
     "output_type": "execute_result"
    }
   ],
   "source": [
    "r2_score(y_test,lm_l.predict(X_test_s))"
   ]
  },
  {
   "cell_type": "markdown",
   "id": "66c586e9",
   "metadata": {},
   "source": [
    "### Decision tree "
   ]
  },
  {
   "cell_type": "code",
   "execution_count": 39,
   "id": "12b3e2e3",
   "metadata": {},
   "outputs": [],
   "source": [
    "from sklearn import tree\n",
    "regtree = tree.DecisionTreeRegressor(max_depth = 3)"
   ]
  },
  {
   "cell_type": "code",
   "execution_count": 40,
   "id": "6b4f9ac0",
   "metadata": {},
   "outputs": [
    {
     "data": {
      "text/plain": [
       "DecisionTreeRegressor(max_depth=3)"
      ]
     },
     "execution_count": 40,
     "metadata": {},
     "output_type": "execute_result"
    }
   ],
   "source": [
    "regtree.fit(X_train,y_train)"
   ]
  },
  {
   "cell_type": "code",
   "execution_count": 41,
   "id": "33e297c9",
   "metadata": {},
   "outputs": [
    {
     "data": {
      "text/plain": [
       "0.8883177368237396"
      ]
     },
     "execution_count": 41,
     "metadata": {},
     "output_type": "execute_result"
    }
   ],
   "source": [
    "r2_score(y_train,regtree.predict(X_train))"
   ]
  },
  {
   "cell_type": "code",
   "execution_count": 42,
   "id": "35ad70bf",
   "metadata": {},
   "outputs": [
    {
     "data": {
      "text/plain": [
       "0.9070704931218894"
      ]
     },
     "execution_count": 42,
     "metadata": {},
     "output_type": "execute_result"
    }
   ],
   "source": [
    "r2_score(y_test,regtree.predict(X_test))"
   ]
  },
  {
   "cell_type": "code",
   "execution_count": 43,
   "id": "e958ce89",
   "metadata": {},
   "outputs": [
    {
     "data": {
      "text/plain": [
       "0.9117980570545764"
      ]
     },
     "execution_count": 43,
     "metadata": {},
     "output_type": "execute_result"
    }
   ],
   "source": [
    "from sklearn import tree\n",
    "regtree2 = tree.DecisionTreeRegressor(max_depth = 6)\n",
    "\n",
    "regtree2.fit(X_train,y_train)\n",
    "\n",
    "from sklearn.metrics import mean_squared_error, r2_score\n",
    "\n",
    "r2_score(y_test,regtree2.predict(X_test))"
   ]
  },
  {
   "cell_type": "markdown",
   "id": "0c5b6288",
   "metadata": {},
   "source": [
    "### XG boost "
   ]
  },
  {
   "cell_type": "code",
   "execution_count": 44,
   "id": "eb0692a7",
   "metadata": {},
   "outputs": [
    {
     "data": {
      "text/plain": [
       "XGBRegressor(base_score=0.5, booster='gbtree', colsample_bylevel=1,\n",
       "             colsample_bynode=1, colsample_bytree=1, enable_categorical=False,\n",
       "             gamma=0, gpu_id=-1, importance_type=None,\n",
       "             interaction_constraints='', learning_rate=0.3, max_delta_step=0,\n",
       "             max_depth=5, min_child_weight=1, missing=nan,\n",
       "             monotone_constraints='()', n_estimators=10000, n_jobs=-1,\n",
       "             num_parallel_tree=1, predictor='auto', random_state=0, reg_alpha=0,\n",
       "             reg_lambda=1, scale_pos_weight=1, subsample=1, tree_method='exact',\n",
       "             validate_parameters=1, verbosity=None)"
      ]
     },
     "execution_count": 44,
     "metadata": {},
     "output_type": "execute_result"
    }
   ],
   "source": [
    "import xgboost as xgb\n",
    "\n",
    "xgb_reg=xgb.XGBRegressor(max_depth=5,n_estimators=10000,learning_rate=0.3,n_jobs=-1)\n",
    "\n",
    "xgb_reg.fit(X_train,y_train)"
   ]
  },
  {
   "cell_type": "code",
   "execution_count": 45,
   "id": "4edbdff2",
   "metadata": {},
   "outputs": [
    {
     "data": {
      "text/plain": [
       "0.9178816196027739"
      ]
     },
     "execution_count": 45,
     "metadata": {},
     "output_type": "execute_result"
    }
   ],
   "source": [
    "r2_score(y_test,xgb_reg.predict(X_test))"
   ]
  },
  {
   "cell_type": "code",
   "execution_count": 46,
   "id": "3b5bf09b",
   "metadata": {},
   "outputs": [
    {
     "data": {
      "text/plain": [
       "<AxesSubplot:title={'center':'Feature importance'}, xlabel='F score', ylabel='Features'>"
      ]
     },
     "execution_count": 46,
     "metadata": {},
     "output_type": "execute_result"
    },
    {
     "data": {
      "image/png": "[encoded data removed]",
      "text/plain": [
       "<Figure size 432x288 with 1 Axes>"
      ]
     },
     "metadata": {
      "needs_background": "light"
     },
     "output_type": "display_data"
    }
   ],
   "source": [
    "xgb.plot_importance(xgb_reg)"
   ]
  },
  {
   "cell_type": "markdown",
   "id": "418f0fb2",
   "metadata": {},
   "source": [
    "### Random forest "
   ]
  },
  {
   "cell_type": "code",
   "execution_count": 47,
   "id": "d8646dce",
   "metadata": {},
   "outputs": [
    {
     "data": {
      "text/plain": [
       "RandomForestRegressor(n_estimators=1000, n_jobs=-1, random_state=42)"
      ]
     },
     "execution_count": 47,
     "metadata": {},
     "output_type": "execute_result"
    }
   ],
   "source": [
    "from sklearn.ensemble import RandomForestRegressor \n",
    "\n",
    "rf_reg= RandomForestRegressor(n_estimators=1000,n_jobs=-1, random_state=42)\n",
    "\n",
    "rf_reg.fit(X_train,y_train)"
   ]
  },
  {
   "cell_type": "code",
   "execution_count": 48,
   "id": "ae7cea5e",
   "metadata": {},
   "outputs": [
    {
     "data": {
      "text/plain": [
       "0.7938326173570791"
      ]
     },
     "execution_count": 48,
     "metadata": {},
     "output_type": "execute_result"
    }
   ],
   "source": [
    "r2_score(y_test, rf_reg.predict(X_test))"
   ]
  },
  {
   "cell_type": "markdown",
   "id": "53c1db1e",
   "metadata": {},
   "source": [
    "### Grid Search"
   ]
  },
  {
   "cell_type": "code",
   "execution_count": 49,
   "id": "5bd97442",
   "metadata": {},
   "outputs": [],
   "source": [
    "from sklearn.model_selection import GridSearchCV"
   ]
  },
  {
   "cell_type": "code",
   "execution_count": 50,
   "id": "ba5a63bf",
   "metadata": {},
   "outputs": [],
   "source": [
    "rf_reg2 = RandomForestRegressor(n_estimators=1000, random_state=42)"
   ]
  },
  {
   "cell_type": "code",
   "execution_count": 51,
   "id": "67115580",
   "metadata": {},
   "outputs": [],
   "source": [
    "params_grid ={\"max_features\":[10,11,12],\"min_samples_split\":[3,4]}"
   ]
  },
  {
   "cell_type": "code",
   "execution_count": 52,
   "id": "a8727957",
   "metadata": {},
   "outputs": [],
   "source": [
    "grid_search=GridSearchCV(rf_reg2,params_grid,n_jobs=-1, cv=5,scoring='r2')"
   ]
  },
  {
   "cell_type": "code",
   "execution_count": 53,
   "id": "4fb047bd",
   "metadata": {},
   "outputs": [],
   "source": [
    "GridSearchCV?"
   ]
  },
  {
   "cell_type": "code",
   "execution_count": 54,
   "id": "b0eea07f",
   "metadata": {},
   "outputs": [
    {
     "data": {
      "text/plain": [
       "GridSearchCV(cv=5,\n",
       "             estimator=RandomForestRegressor(n_estimators=1000,\n",
       "                                             random_state=42),\n",
       "             n_jobs=-1,\n",
       "             param_grid={'max_features': [10, 11, 12],\n",
       "                         'min_samples_split': [3, 4]},\n",
       "             scoring='r2')"
      ]
     },
     "execution_count": 54,
     "metadata": {},
     "output_type": "execute_result"
    }
   ],
   "source": [
    "grid_search.fit(X_train,y_train)"
   ]
  },
  {
   "cell_type": "code",
   "execution_count": 55,
   "id": "72562964",
   "metadata": {},
   "outputs": [
    {
     "data": {
      "text/plain": [
       "{'max_features': 11, 'min_samples_split': 3}"
      ]
     },
     "execution_count": 55,
     "metadata": {},
     "output_type": "execute_result"
    }
   ],
   "source": [
    "grid_search.best_params_"
   ]
  },
  {
   "cell_type": "code",
   "execution_count": 56,
   "id": "0c3a5b1b",
   "metadata": {},
   "outputs": [],
   "source": [
    "cvrf_clf=grid_search.best_estimator_"
   ]
  },
  {
   "cell_type": "code",
   "execution_count": 57,
   "id": "eef92f2e",
   "metadata": {},
   "outputs": [
    {
     "data": {
      "text/plain": [
       "0.7837303433921378"
      ]
     },
     "execution_count": 57,
     "metadata": {},
     "output_type": "execute_result"
    }
   ],
   "source": [
    "r2_score(y_test, cvrf_clf.predict(X_test))"
   ]
  },
  {
   "cell_type": "markdown",
   "id": "e3fcacd0",
   "metadata": {},
   "source": [
    "Max r2 score = 0.9178816196027739 from xg boost"
   ]
  }
 ],
 "metadata": {
  "kernelspec": {
   "display_name": "Python 3",
   "language": "python",
   "name": "python3"
  },
  "language_info": {
   "codemirror_mode": {
    "name": "ipython",
    "version": 3
   },
   "file_extension": ".py",
   "mimetype": "text/x-python",
   "name": "python",
   "nbconvert_exporter": "python",
   "pygments_lexer": "ipython3",
   "version": "3.8.8"
  }
 },
 "nbformat": 4,
 "nbformat_minor": 5
}
